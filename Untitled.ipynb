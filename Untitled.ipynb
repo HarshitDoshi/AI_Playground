{
 "cells": [
  {
   "cell_type": "markdown",
   "metadata": {},
   "source": [
    "# Artificial Intelligence\n",
    "---\n",
    "\n",
    "## What is AI?\n",
    "\n",
    "Below given are some definitions of AI. The definitions on the top are concerned with the *thought process* and *reasoning*, whereas, the ones on the bottom address *behaviour*. Thedefinitions on the left measure success in terms of fidelity to *human* performance, whereas the ones on the right measure against an *ideal* performance measure, called **rationality**.\n",
    "\n",
    "**Thinking Humanly** | **Thinking Rationally**\n",
    "--- | ---\n",
    "\"The exciting new effort to make computers think...*machines with minds*, in the full and literal sense.\" (Haugeland, 1985) | \"hewjhgrjwg\"\n",
    "\"jehgjhe\" | \"heheheh\"\n",
    "--- | ---\n",
    "**Acting Humanly** | **Acting Rationally**\n",
    "--- | ---"
   ]
  },
  {
   "cell_type": "code",
   "execution_count": null,
   "metadata": {},
   "outputs": [],
   "source": []
  }
 ],
 "metadata": {
  "kernelspec": {
   "display_name": "Python 3",
   "language": "python",
   "name": "python3"
  },
  "language_info": {
   "codemirror_mode": {
    "name": "ipython",
    "version": 3
   },
   "file_extension": ".py",
   "mimetype": "text/x-python",
   "name": "python",
   "nbconvert_exporter": "python",
   "pygments_lexer": "ipython3",
   "version": "3.7.3"
  }
 },
 "nbformat": 4,
 "nbformat_minor": 4
}
