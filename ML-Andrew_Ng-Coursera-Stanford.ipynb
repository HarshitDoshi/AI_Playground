{
 "cells": [
  {
   "cell_type": "markdown",
   "metadata": {},
   "source": [
    "# Machine Learning"
   ]
  },
  {
   "cell_type": "markdown",
   "metadata": {},
   "source": [
    "Machine Learning is a very new domain in the field of computers and computer science. It grew out of work in AI or Artificial Intelligence. Machine Learning defines new capabilities for computers.\n",
    "\n",
    "Examples of fields where machine learning is used are:\n",
    "\n",
    "* Database mining: Large datasets are generated and created due to growth and advancement of the web.\n",
    "    * web click data\n",
    "    * medical records\n",
    "    * biological records\n",
    "    * engineering data\n",
    "* Applications which can't be programmed by hand:\n",
    "    * Autonomous vehicles (airplanes, automobiles, etc.)\n",
    "    * handwriting recognition\n",
    "    * most of natural language processing (NLP)\n",
    "    * computer vision (CV)\n",
    "* Self-customizing programs:\n",
    "    * Amazon shopping recommendations\n",
    "    * Netflix recommendations\n",
    "* Understanding human learning (brain, neural research, Artificial General Intelligence)"
   ]
  },
  {
   "cell_type": "markdown",
   "metadata": {},
   "source": [
    "## What is machine learning?\n",
    "\n",
    "### Definitions:\n",
    "\n",
    "**Arthur Samuel in 1959**: Machine Learning is a field of study that gives computers the ability to learn without being explicitly programmed.\n",
    "\n",
    "**Tom Mitchell in 1998 talks about a well-posed learning problem**: A computer program is said to learn from experience E with respect to some task T and some performance measure P, if its performance on T, as measured by P, improves with experience E."
   ]
  },
  {
   "cell_type": "markdown",
   "metadata": {},
   "source": [
    "## Classification of Machine Learning:\n",
    "\n",
    "There are many different types of machine learning algorithms, but the two most important types are:\n",
    "\n",
    "* Supervised learning\n",
    "* Unsupervised learning\n",
    "\n",
    "Other types are:\n",
    "\n",
    "* Reinforcement learning\n",
    "* Recommender systems\n",
    "\n",
    "etc."
   ]
  },
  {
   "cell_type": "markdown",
   "metadata": {},
   "source": [
    "## Supervised Learning:\n",
    "\n",
    "In supervised learning, a machine is fed the right answers (known outputs) to a particular problem for a particular set of inputs. Based on this, the machine learns and predicts the output for other set/s of inputs (for which the output is not known).\n",
    "\n",
    "### Classification of supervised learning systems:\n",
    "\n",
    "There can be two types of cases where a supervised learning system can be utilized to obtain the solution/s:\n",
    "\n",
    "* Regression problem: predict continuous valued output (Example: housing prices or any other prices in general)\n",
    "\n",
    "* Classification problem: predict discrete valued output (Example: cancer classification; whether the cancer is benign or malignant)"
   ]
  },
  {
   "cell_type": "markdown",
   "metadata": {},
   "source": [
    "## Unsupervised Learning:\n",
    "\n",
    "In unsupervised learning, a machine is not fed any data prior to the problem. The input for the problem is fed and the machine has to automatically figure out the solutions and generate the output by learning and analysing the data.\n",
    "\n",
    "Examples of problems where unsupervised learning is utilized to obtain the solution/s:\n",
    "\n",
    "* News classification for stories on applicatiosn like Google News: after you open Google News, you will see headlines for different stories. Right below this headlines, you will see several similar headlines from other sources for the same story/event\n",
    "* Gene research\n",
    "* Cluster computing and its organization\n",
    "* Social network analysis\n",
    "* Market segment identification\n",
    "* Astronomical data analysis"
   ]
  },
  {
   "cell_type": "markdown",
   "metadata": {},
   "source": [
    "### Hypothesis\n",
    "\n",
    "$$\n",
    "h_{\\theta}(x) = \\theta_{0} + \\theta_{1}x\n",
    "$$\n",
    "\n",
    "### Cost function\n",
    "\n",
    "Our goal here is to minimize the cost. The cost is nothing but the difference between our $X$ and $Y$. It is the measure of how far away our solution is from the most optimal solution.\n",
    "\n",
    "To reduce this difference, we need to get a good estimate of the parameters $\\theta_{0}$ and $\\theta_{1}$ (here, in this case. The parameters can be more too).\n",
    "\n",
    "The below given fucntion is known as the cost function:\n",
    "\n",
    "$$\n",
    "J(\\theta_{0}, \\theta_{1}) = \\frac{1}{2m} \\sum_{i = 1}^{m} (h_{\\theta}(x^{(i)}) - y^{(i)})^{2}\n",
    "$$\n",
    "$$\n",
    "minimize_{(\\theta_{0}, \\theta_{1})} J(\\theta_{0}, \\theta_{1})\n",
    "$$"
   ]
  },
  {
   "cell_type": "markdown",
   "metadata": {},
   "source": [
    "### Gradient Descent"
   ]
  },
  {
   "cell_type": "code",
   "execution_count": null,
   "metadata": {},
   "outputs": [],
   "source": []
  }
 ],
 "metadata": {
  "kernelspec": {
   "display_name": "Python 3",
   "language": "python",
   "name": "python3"
  },
  "language_info": {
   "codemirror_mode": {
    "name": "ipython",
    "version": 3
   },
   "file_extension": ".py",
   "mimetype": "text/x-python",
   "name": "python",
   "nbconvert_exporter": "python",
   "pygments_lexer": "ipython3",
   "version": "3.7.3"
  }
 },
 "nbformat": 4,
 "nbformat_minor": 4
}
