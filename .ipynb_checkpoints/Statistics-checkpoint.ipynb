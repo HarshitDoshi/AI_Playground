{
 "cells": [
  {
   "cell_type": "markdown",
   "metadata": {},
   "source": [
    "# Statistics\n",
    "---\n",
    "\n",
    "Data science deals with a lot of statistics. Learning and being confortable with statistics is of utmost important.\n",
    "\n",
    "A typical data science workflow involves the following phases:\n",
    "\n",
    "* **Defining the *populations* of interest**\n",
    "* **Discussing methods of taking *samples* from this population**\n",
    "* ***Designing* studies that can best answer particular research questions**\n",
    "* **Identify the *scope* of inference for a study**\n",
    "* **Exploratory Data Analysis (*EDA*)**\n",
    "* **Statistical *inference***\n",
    "\n",
    "var1 | var2 | var3 | var4 | var5 | . | . | .\n",
    "--- | --- | --- | --- | --- | --- | --- | ---\n",
    "obs1 | | | | | | |\n",
    "obs2 | | | | | | |\n",
    "obs3 | | | | | | |\n",
    "obs4 | | | | | | |\n",
    "obs | | | | | | |\n",
    ". | | | | | | |\n",
    ". | | | | | | |"
   ]
  },
  {
   "cell_type": "markdown",
   "metadata": {},
   "source": [
    "The above given figure is known as a **data matrix** in statistics. In simpler terms, it can be referred to as a *table*. A row in a **data matrix** is known as a **case** or an **observation**. A column is known as a **variable**."
   ]
  },
  {
   "cell_type": "markdown",
   "metadata": {},
   "source": [
    "## Variables are of the following types\n",
    "* **Numerical (Quantitative)**: Numerical data is of two types,\n",
    "    * **Continuous** - height, weather etc.\n",
    "    * **Discrete** - number of cars a household owns.\n",
    "    \n",
    "    Numerical data can be added, subtracted, multiplied, divided, averaged etc. We can round-off continuous numerical data to make it discrete.\n",
    "* **Categorical (Qualitative)**: Categorical data is of two types,\n",
    "    * **Ordinal** - it is _ordered_ or _levelled_ (has inherent ordering). Example: star ratings.\n",
    "    * **Regular** - no inherent ordering is found for such type of data. Example: morning person or night person.\n",
    "    \n",
    "    Categorical variables can be identified with numbers. These numbers are just labels assigned to them for the sake of convenience. It is not sensible to perform arithmatic operations like add, subtract, multiply, divide, average etc. on them."
   ]
  },
  {
   "cell_type": "markdown",
   "metadata": {},
   "source": [
    "## Relationships between variables\n",
    "\n",
    "There are two types of relationships found between variables. They are:\n",
    "\n",
    "* **Associated**: These are also known as _dependent_ variables. They can be of two types:\n",
    "    * Positive -\n",
    "    * Negative -\n",
    "* **Independent**:"
   ]
  },
  {
   "cell_type": "markdown",
   "metadata": {},
   "source": [
    "## Studies\n",
    "\n",
    "There are generally two types of studies:\n",
    "* **Observational studies**: Here, in observational studies, the data is collected in a way that it does not interfere with how the data arises or is generated. Here, just observation is carried out. These types of studies only establish association. They are of two types:\n",
    "    * Retrospective - in this type of observational studies, data from the past is used.\n",
    "    * Prospective - in this type of observational studies, data is collected throughout the study.\n",
    "* **Experimental studies**: Here, subjects are randomly assinged to treatments. A causal connection is established in such types of studies.\n",
    "\n",
    "## Confounding variables\n",
    "\n",
    "**Confounding variables** are extraneous variables that affect both, the *explanatory variable* and the *response variable*. This makes it seem like there is a relationship between them, while there actually isn't any.\n",
    "\n",
    "**NOTE: *Correlation does not mean causation.* The most important statement to remember in statistics.**\n",
    "\n",
    "## Sampling and sourcing of bias\n",
    "\n",
    "**Census** - *Census* means sampling the entire population.\n",
    "\n",
    "How is sampling done? Below given is an idea of how sampling is done.\n",
    "\n",
    "First **exploratory analysis** is carried out. What this means is that the data is analysed. Then, an **inference** is made for the data. The data that is used for all of this is called the **representative sample**.\n",
    "\n",
    "For example: When making soup, it is examined for taste. This is exploratory analysis. Then if the soup isn't salty enough, we infer that it needs salt. Here, we do not consume a whole part of soup to analyse and infer the taste of the soup, but instead, we just take a spoonful of it. This spoonful of soup is the representative sample. Here, the representative sample can be a spoonful of *stirred soup* or *unstirred soup*. Unstirred soup will probably not give a good idea of taste as the salt might not have mixed up.\n",
    "\n",
    "## A few sources of sampling bias\n",
    "\n",
    "* **Convenience sample**: Includes individuals who are easily accessible and are more likely to be included in the sample.\n",
    "* **Non-responese**: If only a (non-random) fraction of the randomly sampled people respond to a survey such that the sample is no longer representative of the population.\n",
    "* **Voluntary response**: Occurs when the sample consists of people who volunteer to respond because they have strong opinions on the issue.\n",
    "\n",
    "## Sampling methods\n",
    "\n",
    "1) **Simple Random Sampling (SRS)** - Here, each case is equally likely to be selected.\n",
    "\n",
    "2) **Stratified Sampling** - The population is divided into homogeneous strata and then random sampling is carried out from within each stratum.\n",
    "\n",
    "3) **Cluster Sampling** - The population is divided into clusters and a few of these clusters are randomly sampled. Then all the observations within these clusters are sampled.\n",
    "\n",
    "4) **Multistage Sampling** - Here, the population is divided into clusters. Then, a few of these clusters are randomly sampled. Then, random sampling is carried out within these clusters."
   ]
  },
  {
   "cell_type": "markdown",
   "metadata": {},
   "source": [
    "## Experimental Design\n",
    "\n",
    "The following are the principles of experimental design:\n",
    "\n",
    "1) **Control**: Compare treatment of an interest group to a control group.\n",
    "\n",
    "2) **Randomize**: Randomly assign subjects to treatments.\n",
    "\n",
    "3) **Replicate**: Collect a sufficiently large sample or replicate the entire study.\n",
    "\n",
    "4) **Block**: Block for variables known or suspected to affect the outcome.\n",
    "\n",
    "## Blocking versus Explanatory Variables\n",
    "\n",
    "**Explanatory Variables** (*factors*) - conditions that we can impose on experimental units.\n",
    "\n",
    "**Blocking Variables** - characteristics that the experimental units come with and that we would like control upon."
   ]
  },
  {
   "cell_type": "markdown",
   "metadata": {},
   "source": [
    "## Placebo\n",
    "\n",
    "*Placebo* is fake treatment often used as the control group for medical studies.\n",
    "\n",
    "**Placebo Effect** - showing change despite being on a placebo."
   ]
  },
  {
   "cell_type": "markdown",
   "metadata": {},
   "source": [
    "## Blinding\n",
    "\n",
    "In this scenario, the experimental units are not aware of which group they are in.\n",
    "\n",
    "**Double Blinding** - In such a scenario, both, the experimental units and the researchers, are not aware of the group assignment."
   ]
  }
 ],
 "metadata": {
  "kernelspec": {
   "display_name": "R",
   "language": "R",
   "name": "ir"
  },
  "language_info": {
   "name": ""
  }
 },
 "nbformat": 4,
 "nbformat_minor": 4
}
