{
 "cells": [
  {
   "cell_type": "markdown",
   "metadata": {
    "colab_type": "text",
    "id": "c5lKzp1rQh5C"
   },
   "source": [
    "# My study on _stock markets_\n",
    "The motive behind this study is to understand the stock markets which serve as an excellent platform for **data analysis** and **predictions**.\n",
    "\n",
    "**The study is purely _scientific_ and _mathematical_.**"
   ]
  },
  {
   "cell_type": "markdown",
   "metadata": {
    "colab_type": "text",
    "id": "IoREjhE1jQs-"
   },
   "source": [
    "Interaction with the stock market can be, in general, categorized into two:\n",
    "\n",
    "- Direct\n",
    "- Indirect\n",
    "\n",
    "### Direct\n",
    "\n",
    "_Direct_ interaction refers to the act of directly investing in the stock market.\n",
    "\n",
    "### Indirect\n",
    "\n",
    "_Indirect_ interaction refers to the act of listing a company on the stock market."
   ]
  },
  {
   "cell_type": "markdown",
   "metadata": {},
   "source": [
    "## Investing\n",
    "\n",
    "Investing is the art of creating wealth. It can be mastered by anyone and not only the wealthy. Anyone can easily get started with investing with the various vehicles and intruments available to do so. One can start with a small amount and then build upon it to create a profitable portfolio. Investing takes time and that is what differentiates it from gambling. It is not a get-rich-quick scheme."
   ]
  },
  {
   "cell_type": "markdown",
   "metadata": {},
   "source": [
    "So, **what is investing?**\n",
    "\n",
    "Investing is the act of committing money or capital to an endeavour with the expectations of obtaining additional income or profit."
   ]
  }
 ],
 "metadata": {
  "colab": {
   "collapsed_sections": [],
   "name": "SM.ipynb",
   "provenance": [],
   "toc_visible": true,
   "version": "0.3.2"
  },
  "kernelspec": {
   "display_name": "Python 3",
   "language": "python",
   "name": "python3"
  },
  "language_info": {
   "codemirror_mode": {
    "name": "ipython",
    "version": 3
   },
   "file_extension": ".py",
   "mimetype": "text/x-python",
   "name": "python",
   "nbconvert_exporter": "python",
   "pygments_lexer": "ipython3",
   "version": "3.7.1"
  }
 },
 "nbformat": 4,
 "nbformat_minor": 2
}
