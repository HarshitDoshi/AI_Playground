{
  "nbformat": 4,
  "nbformat_minor": 0,
  "metadata": {
    "colab": {
      "name": "SM.ipynb",
      "version": "0.3.2",
      "provenance": [],
      "collapsed_sections": [],
      "toc_visible": true
    },
    "kernelspec": {
      "name": "python3",
      "display_name": "Python 3"
    }
  },
  "cells": [
    {
      "metadata": {
        "id": "c5lKzp1rQh5C",
        "colab_type": "text"
      },
      "cell_type": "markdown",
      "source": [
        "# My study on _stock markets_\n",
        "The motive behind this study is to understand the stock markets which serve as an excellent platform for **data analysis** and **predictions**.\n",
        "\n",
        "**The study is purely _scientific_ and _mathematical_.**"
      ]
    },
    {
      "metadata": {
        "id": "IoREjhE1jQs-",
        "colab_type": "text"
      },
      "cell_type": "markdown",
      "source": [
        "Interaction with the stock market can be, in general, categorized into two:\n",
        "\n",
        "- Direct\n",
        "- Indirect\n",
        "\n",
        "### Direct\n",
        "\n",
        "_Direct_ interaction refers to the act of directly investing in the stock market.\n",
        "\n",
        "### Indirect\n",
        "\n",
        "_Indirect_ interaction refers to the act of listing a company on the stock market."
      ]
    }
  ]
}